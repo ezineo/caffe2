{
 "cells": [
  {
   "cell_type": "code",
   "execution_count": 1,
   "metadata": {
    "collapsed": false
   },
   "outputs": [
    {
     "name": "stdout",
     "output_type": "stream",
     "text": [
      "Config set!\n"
     ]
    }
   ],
   "source": [
    "# Configuration --- Change to your setup and preferences!\n",
    "CAFFE_ROOT = \"~/caffe2\"\n",
    "\n",
    "# What image do you want to test? Can be local or URL.\n",
    "# IMAGE_LOCATION = \"images/cat.jpg\"\n",
    "# IMAGE_LOCATION = \"https://upload.wikimedia.org/wikipedia/commons/thumb/f/f8/Whole-Lemon.jpg/1235px-Whole-Lemon.jpg\"\n",
    "# IMAGE_LOCATION = \"https://upload.wikimedia.org/wikipedia/commons/7/7b/Orange-Whole-%26-Split.jpg\"\n",
    "# IMAGE_LOCATION = \"https://upload.wikimedia.org/wikipedia/commons/7/7c/Zucchini-Whole.jpg\"\n",
    "# IMAGE_LOCATION = \"https://upload.wikimedia.org/wikipedia/commons/a/ac/Pretzel.jpg\"\n",
    "IMAGE_LOCATION = \"https://cdn.pixabay.com/photo/2015/02/10/21/28/flower-631765_1280.jpg\"\n",
    "\n",
    "# What model are we using? You should have already converted or downloaded one.\n",
    "# format below is the model's: \n",
    "# folder, init_net, predict_net, mean, input image size\n",
    "# you can switch the comments on MODEL to try out different model conversions\n",
    "MODEL = 'squeezenet', 'init_net.pb', 'run_net.pb', 'ilsvrc_2012_mean.npy', 227\n",
    "\n",
    "# googlenet will fail with \"enforce fail at fully_connected_op.h:25\"\n",
    "# MODEL = 'bvlc_googlenet', 'init_net.pb', 'predict_net.pb', 'ilsvrc_2012_mean.npy', 224\n",
    "\n",
    "# these will run out of memory and fail... waiting for C++ version of predictor\n",
    "# MODEL = 'bvlc_alexnet', 'init_net.pb', 'predict_net.pb', 'ilsvrc_2012_mean.npy', 224\n",
    "# MODEL = 'finetune_flickr_style', 'init_net.pb', 'predict_net.pb', 'ilsvrc_2012_mean.npy', 224\n",
    "\n",
    "# The list of output codes for the AlexNet models (squeezenet)\n",
    "codes =  \"https://gist.githubusercontent.com/maraoz/388eddec39d60c6d52d4/raw/791d5b370e4e31a4e9058d49005be4888ca98472/gistfile1.txt\"\n",
    "print \"Config set!\""
   ]
  },
  {
   "cell_type": "code",
   "execution_count": 2,
   "metadata": {
    "collapsed": false
   },
   "outputs": [
    {
     "name": "stdout",
     "output_type": "stream",
     "text": [
      "Required modules imported.\n",
      "Functions set.\n",
      "mean was set to:  128\n",
      "Found  /home/aaron/caffe2/models/finetune_flickr_style/init_net.pb ...Now looking for /home/aaron/caffe2/models/finetune_flickr_style/predict_net.pb\n",
      "All needed files found! Loading the model in the next block.\n"
     ]
    }
   ],
   "source": [
    "%matplotlib inline\n",
    "from caffe2.proto import caffe2_pb2\n",
    "import numpy as np\n",
    "import skimage.io\n",
    "import skimage.transform\n",
    "from matplotlib import pyplot\n",
    "import os\n",
    "from caffe2.python import core, workspace\n",
    "import urllib2\n",
    "print(\"Required modules imported.\")\n",
    "def crop_center(img,cropx,cropy):\n",
    "    y,x,c = img.shape\n",
    "    startx = x//2-(cropx//2)\n",
    "    starty = y//2-(cropy//2)    \n",
    "    return img[starty:starty+cropy,startx:startx+cropx]\n",
    "\n",
    "def rescale(img, input_height, input_width):\n",
    "    print(\"Original image shape:\" + str(img.shape) + \" and remember it should be in H, W, C!\")\n",
    "    print(\"Model's input shape is %dx%d\") % (input_height, input_width)\n",
    "    aspect = img.shape[1]/float(img.shape[0])\n",
    "    print(\"Orginal aspect ratio: \" + str(aspect))\n",
    "    if(aspect>1):\n",
    "        # landscape orientation - wide image\n",
    "        res = int(aspect * input_height)\n",
    "        imgScaled = skimage.transform.resize(img, (input_width, res))\n",
    "    if(aspect<1):\n",
    "        # portrait orientation - tall image\n",
    "        res = int(input_width/aspect)\n",
    "        imgScaled = skimage.transform.resize(img, (res, input_height))\n",
    "    if(aspect == 1):\n",
    "        imgScaled = skimage.transform.resize(img, (input_width, input_height))\n",
    "    pyplot.figure()\n",
    "    pyplot.imshow(imgScaled)\n",
    "    pyplot.axis('on')\n",
    "    pyplot.title('Rescaled image')\n",
    "    print(\"New image shape:\" + str(imgScaled.shape) + \" in HWC\")\n",
    "    return imgScaled\n",
    "print \"Functions set.\"\n",
    "\n",
    "# set paths and variables from model choice\n",
    "CAFFE_ROOT = os.path.expanduser(CAFFE_ROOT)\n",
    "CAFFE_MODELS = os.path.join(CAFFE_ROOT, 'models')\n",
    "MEAN_FILE = os.path.join(CAFFE_MODELS, MODEL[0], MODEL[3])\n",
    "\n",
    "if not os.path.exists(MEAN_FILE):\n",
    "    mean = 128\n",
    "else:\n",
    "    mean = np.load(MEAN_FILE).mean(1).mean(1)\n",
    "    mean = mean[:, np.newaxis, np.newaxis]\n",
    "\n",
    "print \"mean was set to: \", mean\n",
    "INPUT_IMAGE_SIZE = MODEL[4]\n",
    "if not os.path.exists(CAFFE_ROOT):\n",
    "    print(\"Houston, you may have a problem.\") \n",
    "INIT_NET = os.path.join(CAFFE_MODELS, MODEL[0], MODEL[1])\n",
    "PREDICT_NET = os.path.join(CAFFE_MODELS, MODEL[0], MODEL[2])\n",
    "if not os.path.exists(INIT_NET):\n",
    "    print(INIT_NET + \" not found!\")\n",
    "else:\n",
    "    print \"Found \", INIT_NET, \"...Now looking for\", PREDICT_NET\n",
    "    if not os.path.exists(PREDICT_NET):\n",
    "        print \"Caffe model file, \" + PREDICT_NET + \" was not found!\"\n",
    "    else:\n",
    "        print \"All needed files found! Loading the model in the next block.\""
   ]
  },
  {
   "cell_type": "code",
   "execution_count": 3,
   "metadata": {
    "collapsed": false,
    "scrolled": true
   },
   "outputs": [
    {
     "ename": "RuntimeError",
     "evalue": "[enforce fail at pybind_state.cc:657] def.ParseFromString(net_def).  ",
     "output_type": "error",
     "traceback": [
      "\u001b[0;31m---------------------------------------------------------------------------\u001b[0m",
      "\u001b[0;31mRuntimeError\u001b[0m                              Traceback (most recent call last)",
      "\u001b[0;32m<ipython-input-3-f8f12db59d97>\u001b[0m in \u001b[0;36m<module>\u001b[0;34m()\u001b[0m\n\u001b[1;32m      1\u001b[0m \u001b[0;31m# initialize the neural net\u001b[0m\u001b[0;34m\u001b[0m\u001b[0;34m\u001b[0m\u001b[0m\n\u001b[0;32m----> 2\u001b[0;31m \u001b[0mp\u001b[0m \u001b[0;34m=\u001b[0m \u001b[0mworkspace\u001b[0m\u001b[0;34m.\u001b[0m\u001b[0mPredictor\u001b[0m\u001b[0;34m(\u001b[0m\u001b[0mINIT_NET\u001b[0m\u001b[0;34m,\u001b[0m \u001b[0mPREDICT_NET\u001b[0m\u001b[0;34m)\u001b[0m\u001b[0;34m\u001b[0m\u001b[0m\n\u001b[0m\u001b[1;32m      3\u001b[0m \u001b[0;34m\u001b[0m\u001b[0m\n\u001b[1;32m      4\u001b[0m \u001b[0;31m# load and transform image\u001b[0m\u001b[0;34m\u001b[0m\u001b[0;34m\u001b[0m\u001b[0m\n\u001b[1;32m      5\u001b[0m \u001b[0mimg\u001b[0m \u001b[0;34m=\u001b[0m \u001b[0mskimage\u001b[0m\u001b[0;34m.\u001b[0m\u001b[0mimg_as_float\u001b[0m\u001b[0;34m(\u001b[0m\u001b[0mskimage\u001b[0m\u001b[0;34m.\u001b[0m\u001b[0mio\u001b[0m\u001b[0;34m.\u001b[0m\u001b[0mimread\u001b[0m\u001b[0;34m(\u001b[0m\u001b[0mIMAGE_LOCATION\u001b[0m\u001b[0;34m)\u001b[0m\u001b[0;34m)\u001b[0m\u001b[0;34m.\u001b[0m\u001b[0mastype\u001b[0m\u001b[0;34m(\u001b[0m\u001b[0mnp\u001b[0m\u001b[0;34m.\u001b[0m\u001b[0mfloat32\u001b[0m\u001b[0;34m)\u001b[0m\u001b[0;34m\u001b[0m\u001b[0m\n",
      "\u001b[0;32m/usr/local/caffe2/python/workspace.py\u001b[0m in \u001b[0;36m__init__\u001b[0;34m(self, init_net, predict_net, device_option)\u001b[0m\n\u001b[1;32m    287\u001b[0m         \u001b[0;31m# This initializes all the parameters we need\u001b[0m\u001b[0;34m\u001b[0m\u001b[0;34m\u001b[0m\u001b[0m\n\u001b[1;32m    288\u001b[0m         \u001b[0mself\u001b[0m\u001b[0;34m.\u001b[0m\u001b[0minit\u001b[0m \u001b[0;34m=\u001b[0m \u001b[0mself\u001b[0m\u001b[0;34m.\u001b[0m\u001b[0mloadNet\u001b[0m\u001b[0;34m(\u001b[0m\u001b[0minit_net\u001b[0m\u001b[0;34m)\u001b[0m\u001b[0;34m\u001b[0m\u001b[0m\n\u001b[0;32m--> 289\u001b[0;31m         \u001b[0mRunNetOnce\u001b[0m\u001b[0;34m(\u001b[0m\u001b[0mself\u001b[0m\u001b[0;34m.\u001b[0m\u001b[0minit\u001b[0m\u001b[0;34m)\u001b[0m\u001b[0;34m\u001b[0m\u001b[0m\n\u001b[0m\u001b[1;32m    290\u001b[0m         \u001b[0mself\u001b[0m\u001b[0;34m.\u001b[0m\u001b[0mpredict\u001b[0m \u001b[0;34m=\u001b[0m \u001b[0mself\u001b[0m\u001b[0;34m.\u001b[0m\u001b[0mloadNet\u001b[0m\u001b[0;34m(\u001b[0m\u001b[0mpredict_net\u001b[0m\u001b[0;34m)\u001b[0m\u001b[0;34m\u001b[0m\u001b[0m\n\u001b[1;32m    291\u001b[0m         \u001b[0mCreateNet\u001b[0m\u001b[0;34m(\u001b[0m\u001b[0mself\u001b[0m\u001b[0;34m.\u001b[0m\u001b[0mpredict\u001b[0m\u001b[0;34m)\u001b[0m\u001b[0;34m\u001b[0m\u001b[0m\n",
      "\u001b[0;32m/usr/local/caffe2/python/workspace.py\u001b[0m in \u001b[0;36mRunNetOnce\u001b[0;34m(net)\u001b[0m\n\u001b[1;32m    149\u001b[0m \u001b[0;34m\u001b[0m\u001b[0m\n\u001b[1;32m    150\u001b[0m \u001b[0;32mdef\u001b[0m \u001b[0mRunNetOnce\u001b[0m\u001b[0;34m(\u001b[0m\u001b[0mnet\u001b[0m\u001b[0;34m)\u001b[0m\u001b[0;34m:\u001b[0m\u001b[0;34m\u001b[0m\u001b[0m\n\u001b[0;32m--> 151\u001b[0;31m     \u001b[0;32mreturn\u001b[0m \u001b[0mC\u001b[0m\u001b[0;34m.\u001b[0m\u001b[0mrun_net_once\u001b[0m\u001b[0;34m(\u001b[0m\u001b[0mStringfyProto\u001b[0m\u001b[0;34m(\u001b[0m\u001b[0mnet\u001b[0m\u001b[0;34m)\u001b[0m\u001b[0;34m)\u001b[0m\u001b[0;34m\u001b[0m\u001b[0m\n\u001b[0m\u001b[1;32m    152\u001b[0m \u001b[0;34m\u001b[0m\u001b[0m\n\u001b[1;32m    153\u001b[0m \u001b[0;34m\u001b[0m\u001b[0m\n",
      "\u001b[0;31mRuntimeError\u001b[0m: [enforce fail at pybind_state.cc:657] def.ParseFromString(net_def).  "
     ]
    }
   ],
   "source": [
    "# initialize the neural net\n",
    "p = workspace.Predictor(INIT_NET, PREDICT_NET)\n",
    "\n",
    "# load and transform image\n",
    "img = skimage.img_as_float(skimage.io.imread(IMAGE_LOCATION)).astype(np.float32)\n",
    "img = rescale(img, INPUT_IMAGE_SIZE, INPUT_IMAGE_SIZE)\n",
    "img = crop_center(img, INPUT_IMAGE_SIZE, INPUT_IMAGE_SIZE)\n",
    "print \"After crop: \" , img.shape\n",
    "pyplot.figure()\n",
    "pyplot.imshow(img)\n",
    "pyplot.axis('on')\n",
    "pyplot.title('Cropped')\n",
    "\n",
    "# switch to CHW\n",
    "img = img.swapaxes(1, 2).swapaxes(0, 1)\n",
    "pyplot.figure()\n",
    "for i in range(3):\n",
    "    # For some reason, pyplot subplot follows Matlab's indexing\n",
    "    # convention (starting with 1). Well, we'll just follow it...\n",
    "    pyplot.subplot(1, 3, i+1)\n",
    "    pyplot.imshow(img[i])\n",
    "    pyplot.axis('off')\n",
    "    pyplot.title('RGB channel %d' % (i+1))\n",
    "\n",
    "# switch to BGR\n",
    "img = img[(2, 1, 0), :, :]\n",
    "\n",
    "# remove mean for better results\n",
    "img = img * 255 - mean\n",
    "\n",
    "# add batch size\n",
    "img = img[np.newaxis, :, :, :].astype(np.float32)\n",
    "print \"NCHW: \", img.shape\n",
    "\n",
    "# run the net and return prediction\n",
    "results = p.run([img])\n",
    "results = np.asarray(results)\n",
    "results = np.delete(results, 1)\n",
    "index = 0\n",
    "highest = 0\n",
    "arr = np.empty((0,2), dtype=object)\n",
    "arr[:,0] = int(10)\n",
    "arr[:,1:] = float(10)\n",
    "for i, r in enumerate(results):\n",
    "    # imagenet index begins with 1!# imagenet index begins with 1!\n",
    "    i=i+1\n",
    "    arr = np.append(arr, np.array([[i,r]]), axis=0)\n",
    "    if (r > highest):\n",
    "        highest = r\n",
    "        index = i \n",
    "\n",
    "print index, \" :: \", highest\n",
    "\n",
    "# top 3\n",
    "# sorted(arr, key=lambda x: x[1], reverse=True)[:3]\n",
    "\n",
    "response = urllib2.urlopen(codes)\n",
    "\n",
    "for line in response:\n",
    "    code, result = line.partition(\":\")[::2]\n",
    "    if (code.strip() == str(index)):\n",
    "        print result.strip()[1:-2]"
   ]
  },
  {
   "cell_type": "markdown",
   "metadata": {
    "collapsed": true
   },
   "source": [
    "Check [this list](https://gist.github.com/maraoz/388eddec39d60c6d52d4) to verify the results."
   ]
  },
  {
   "cell_type": "code",
   "execution_count": null,
   "metadata": {
    "collapsed": true
   },
   "outputs": [],
   "source": []
  }
 ],
 "metadata": {
  "kernelspec": {
   "display_name": "Python 2",
   "language": "python",
   "name": "python2"
  },
  "language_info": {
   "codemirror_mode": {
    "name": "ipython",
    "version": 2
   },
   "file_extension": ".py",
   "mimetype": "text/x-python",
   "name": "python",
   "nbconvert_exporter": "python",
   "pygments_lexer": "ipython2",
   "version": "2.7.6"
  }
 },
 "nbformat": 4,
 "nbformat_minor": 2
}
